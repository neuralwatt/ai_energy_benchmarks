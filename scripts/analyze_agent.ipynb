{
 "cells": [
  {
   "cell_type": "code",
   "execution_count": 42,
   "metadata": {},
   "outputs": [],
   "source": [
    "import pandas as pd"
   ]
  },
  {
   "cell_type": "code",
   "execution_count": 43,
   "metadata": {},
   "outputs": [],
   "source": [
    "gpu_model = 'h100'\n",
    "ai_model = '_llama3.3_demo'\n",
    "inference_load = pd.read_csv(f\"inference_load.agent_{gpu_model}{ai_model}.csv\", parse_dates=['StartTime', 'EndTime'])\n",
    "nvidia_log = pd.read_csv(f\"nvidia_smi_log.agent_{gpu_model}{ai_model}.csv\", parse_dates=['timestamp'])\n",
    "default_inference_load = pd.read_csv(f\"inference_load.default_{gpu_model}{ai_model}.csv\", parse_dates=['StartTime', 'EndTime'])\n",
    "default_nvidia_log = pd.read_csv(f\"nvidia_smi_log.default_{gpu_model}{ai_model}.csv\", parse_dates=['timestamp'])"
   ]
  },
  {
   "cell_type": "code",
   "execution_count": 44,
   "metadata": {},
   "outputs": [
    {
     "name": "stdout",
     "output_type": "stream",
     "text": [
      "Total time (agent): 0 days 00:01:33.487000\n"
     ]
    }
   ],
   "source": [
    "#get total timespace from inference_load; we will only count from start of first inference to end of last\n",
    "end_time = inference_load['EndTime'].max() \n",
    "start_time = inference_load['StartTime'].min()\n",
    "total_time = end_time - start_time  \n",
    "print(f\"Total time (agent): {total_time}\")"
   ]
  },
  {
   "cell_type": "code",
   "execution_count": 45,
   "metadata": {},
   "outputs": [
    {
     "name": "stdout",
     "output_type": "stream",
     "text": [
      "Total time (default): 0 days 00:01:18.377000\n"
     ]
    }
   ],
   "source": [
    "#get total timespace from inference_load; we will only count from start of first inference to end of last\n",
    "default_end_time = default_inference_load['EndTime'].max() \n",
    "default_start_time = default_inference_load['StartTime'].min()\n",
    "default_total_time = default_end_time - default_start_time  \n",
    "print(f\"Total time (default): {default_total_time}\")"
   ]
  },
  {
   "cell_type": "code",
   "execution_count": 46,
   "metadata": {},
   "outputs": [],
   "source": [
    "#filter nvidia log to only include data from start of first inference to end of last\n",
    "nvidia_log = nvidia_log[(nvidia_log['timestamp'] >= start_time) & (nvidia_log['timestamp'] <= end_time)]\n",
    "default_nvidia_log = default_nvidia_log[(default_nvidia_log['timestamp'] >= default_start_time) & (default_nvidia_log['timestamp'] <= default_end_time)]"
   ]
  },
  {
   "cell_type": "code",
   "execution_count": 47,
   "metadata": {},
   "outputs": [
    {
     "data": {
      "text/html": [
       "<div>\n",
       "<style scoped>\n",
       "    .dataframe tbody tr th:only-of-type {\n",
       "        vertical-align: middle;\n",
       "    }\n",
       "\n",
       "    .dataframe tbody tr th {\n",
       "        vertical-align: top;\n",
       "    }\n",
       "\n",
       "    .dataframe thead th {\n",
       "        text-align: right;\n",
       "    }\n",
       "</style>\n",
       "<table border=\"1\" class=\"dataframe\">\n",
       "  <thead>\n",
       "    <tr style=\"text-align: right;\">\n",
       "      <th></th>\n",
       "      <th>timestamp</th>\n",
       "      <th>index</th>\n",
       "      <th>name</th>\n",
       "      <th>utilization.gpu(%)</th>\n",
       "      <th>utilization.memory(%)</th>\n",
       "      <th>memory.total(MiB)</th>\n",
       "      <th>memory.free(MiB)</th>\n",
       "      <th>memory.used(MiB)</th>\n",
       "      <th>temperature.gpu(C)</th>\n",
       "      <th>gpu.frequency(Ghz)</th>\n",
       "      <th>vram.frequency(Ghz)</th>\n",
       "      <th>power.limit(W)</th>\n",
       "      <th>power.draw(W)</th>\n",
       "      <th>time_since_last</th>\n",
       "      <th>watt_seconds</th>\n",
       "    </tr>\n",
       "  </thead>\n",
       "  <tbody>\n",
       "    <tr>\n",
       "      <th>3</th>\n",
       "      <td>2025-01-25 19:19:22.025</td>\n",
       "      <td>0</td>\n",
       "      <td>NVIDIA H100 80GB HBM3</td>\n",
       "      <td>0</td>\n",
       "      <td>0</td>\n",
       "      <td>81559</td>\n",
       "      <td>36668</td>\n",
       "      <td>44328</td>\n",
       "      <td>31</td>\n",
       "      <td>345</td>\n",
       "      <td>2619</td>\n",
       "      <td>700.0</td>\n",
       "      <td>69.78</td>\n",
       "      <td>NaN</td>\n",
       "      <td>NaN</td>\n",
       "    </tr>\n",
       "    <tr>\n",
       "      <th>4</th>\n",
       "      <td>2025-01-25 19:19:22.145</td>\n",
       "      <td>0</td>\n",
       "      <td>NVIDIA H100 80GB HBM3</td>\n",
       "      <td>0</td>\n",
       "      <td>0</td>\n",
       "      <td>81559</td>\n",
       "      <td>36664</td>\n",
       "      <td>44332</td>\n",
       "      <td>31</td>\n",
       "      <td>345</td>\n",
       "      <td>2619</td>\n",
       "      <td>700.0</td>\n",
       "      <td>70.52</td>\n",
       "      <td>0.120</td>\n",
       "      <td>8.46240</td>\n",
       "    </tr>\n",
       "    <tr>\n",
       "      <th>5</th>\n",
       "      <td>2025-01-25 19:19:22.268</td>\n",
       "      <td>0</td>\n",
       "      <td>NVIDIA H100 80GB HBM3</td>\n",
       "      <td>51</td>\n",
       "      <td>3</td>\n",
       "      <td>81559</td>\n",
       "      <td>36664</td>\n",
       "      <td>44332</td>\n",
       "      <td>32</td>\n",
       "      <td>345</td>\n",
       "      <td>2619</td>\n",
       "      <td>700.0</td>\n",
       "      <td>74.95</td>\n",
       "      <td>0.123</td>\n",
       "      <td>9.21885</td>\n",
       "    </tr>\n",
       "    <tr>\n",
       "      <th>6</th>\n",
       "      <td>2025-01-25 19:19:22.388</td>\n",
       "      <td>0</td>\n",
       "      <td>NVIDIA H100 80GB HBM3</td>\n",
       "      <td>51</td>\n",
       "      <td>3</td>\n",
       "      <td>81559</td>\n",
       "      <td>36664</td>\n",
       "      <td>44332</td>\n",
       "      <td>32</td>\n",
       "      <td>345</td>\n",
       "      <td>2619</td>\n",
       "      <td>700.0</td>\n",
       "      <td>79.40</td>\n",
       "      <td>0.120</td>\n",
       "      <td>9.52800</td>\n",
       "    </tr>\n",
       "    <tr>\n",
       "      <th>7</th>\n",
       "      <td>2025-01-25 19:19:22.506</td>\n",
       "      <td>0</td>\n",
       "      <td>NVIDIA H100 80GB HBM3</td>\n",
       "      <td>96</td>\n",
       "      <td>7</td>\n",
       "      <td>81559</td>\n",
       "      <td>36664</td>\n",
       "      <td>44332</td>\n",
       "      <td>32</td>\n",
       "      <td>345</td>\n",
       "      <td>2619</td>\n",
       "      <td>700.0</td>\n",
       "      <td>85.19</td>\n",
       "      <td>0.118</td>\n",
       "      <td>10.05242</td>\n",
       "    </tr>\n",
       "  </tbody>\n",
       "</table>\n",
       "</div>"
      ],
      "text/plain": [
       "                timestamp  index                   name  utilization.gpu(%)  \\\n",
       "3 2025-01-25 19:19:22.025      0  NVIDIA H100 80GB HBM3                   0   \n",
       "4 2025-01-25 19:19:22.145      0  NVIDIA H100 80GB HBM3                   0   \n",
       "5 2025-01-25 19:19:22.268      0  NVIDIA H100 80GB HBM3                  51   \n",
       "6 2025-01-25 19:19:22.388      0  NVIDIA H100 80GB HBM3                  51   \n",
       "7 2025-01-25 19:19:22.506      0  NVIDIA H100 80GB HBM3                  96   \n",
       "\n",
       "   utilization.memory(%)  memory.total(MiB)  memory.free(MiB)  \\\n",
       "3                      0              81559             36668   \n",
       "4                      0              81559             36664   \n",
       "5                      3              81559             36664   \n",
       "6                      3              81559             36664   \n",
       "7                      7              81559             36664   \n",
       "\n",
       "   memory.used(MiB)  temperature.gpu(C)  gpu.frequency(Ghz)  \\\n",
       "3             44328                  31                 345   \n",
       "4             44332                  31                 345   \n",
       "5             44332                  32                 345   \n",
       "6             44332                  32                 345   \n",
       "7             44332                  32                 345   \n",
       "\n",
       "   vram.frequency(Ghz)  power.limit(W)  power.draw(W)  time_since_last  \\\n",
       "3                 2619           700.0          69.78              NaN   \n",
       "4                 2619           700.0          70.52            0.120   \n",
       "5                 2619           700.0          74.95            0.123   \n",
       "6                 2619           700.0          79.40            0.120   \n",
       "7                 2619           700.0          85.19            0.118   \n",
       "\n",
       "   watt_seconds  \n",
       "3           NaN  \n",
       "4       8.46240  \n",
       "5       9.21885  \n",
       "6       9.52800  \n",
       "7      10.05242  "
      ]
     },
     "execution_count": 47,
     "metadata": {},
     "output_type": "execute_result"
    }
   ],
   "source": [
    "#calculate total watt-seconds of each row\n",
    "nvidia_log['time_since_last'] = nvidia_log['timestamp'].diff().dt.total_seconds()\n",
    "nvidia_log['watt_seconds'] = nvidia_log['power.draw(W)'] * nvidia_log['time_since_last']\n",
    "nvidia_log.head()\n",
    "\n",
    " \n"
   ]
  },
  {
   "cell_type": "code",
   "execution_count": 48,
   "metadata": {},
   "outputs": [
    {
     "data": {
      "text/html": [
       "<div>\n",
       "<style scoped>\n",
       "    .dataframe tbody tr th:only-of-type {\n",
       "        vertical-align: middle;\n",
       "    }\n",
       "\n",
       "    .dataframe tbody tr th {\n",
       "        vertical-align: top;\n",
       "    }\n",
       "\n",
       "    .dataframe thead th {\n",
       "        text-align: right;\n",
       "    }\n",
       "</style>\n",
       "<table border=\"1\" class=\"dataframe\">\n",
       "  <thead>\n",
       "    <tr style=\"text-align: right;\">\n",
       "      <th></th>\n",
       "      <th>timestamp</th>\n",
       "      <th>index</th>\n",
       "      <th>name</th>\n",
       "      <th>utilization.gpu(%)</th>\n",
       "      <th>utilization.memory(%)</th>\n",
       "      <th>memory.total(MiB)</th>\n",
       "      <th>memory.free(MiB)</th>\n",
       "      <th>memory.used(MiB)</th>\n",
       "      <th>temperature.gpu(C)</th>\n",
       "      <th>gpu.frequency(Ghz)</th>\n",
       "      <th>vram.frequency(Ghz)</th>\n",
       "      <th>power.limit(W)</th>\n",
       "      <th>power.draw(W)</th>\n",
       "      <th>time_since_last</th>\n",
       "      <th>watt_seconds</th>\n",
       "    </tr>\n",
       "  </thead>\n",
       "  <tbody>\n",
       "    <tr>\n",
       "      <th>7</th>\n",
       "      <td>2025-01-25 19:40:29.498</td>\n",
       "      <td>0</td>\n",
       "      <td>NVIDIA H100 80GB HBM3</td>\n",
       "      <td>0</td>\n",
       "      <td>0</td>\n",
       "      <td>81559</td>\n",
       "      <td>36640</td>\n",
       "      <td>44356</td>\n",
       "      <td>32</td>\n",
       "      <td>1980</td>\n",
       "      <td>2619</td>\n",
       "      <td>700.0</td>\n",
       "      <td>118.24</td>\n",
       "      <td>NaN</td>\n",
       "      <td>NaN</td>\n",
       "    </tr>\n",
       "    <tr>\n",
       "      <th>8</th>\n",
       "      <td>2025-01-25 19:40:29.615</td>\n",
       "      <td>0</td>\n",
       "      <td>NVIDIA H100 80GB HBM3</td>\n",
       "      <td>42</td>\n",
       "      <td>17</td>\n",
       "      <td>81559</td>\n",
       "      <td>36640</td>\n",
       "      <td>44356</td>\n",
       "      <td>35</td>\n",
       "      <td>1980</td>\n",
       "      <td>2619</td>\n",
       "      <td>700.0</td>\n",
       "      <td>158.39</td>\n",
       "      <td>0.117</td>\n",
       "      <td>18.53163</td>\n",
       "    </tr>\n",
       "    <tr>\n",
       "      <th>9</th>\n",
       "      <td>2025-01-25 19:40:29.732</td>\n",
       "      <td>0</td>\n",
       "      <td>NVIDIA H100 80GB HBM3</td>\n",
       "      <td>42</td>\n",
       "      <td>17</td>\n",
       "      <td>81559</td>\n",
       "      <td>36640</td>\n",
       "      <td>44356</td>\n",
       "      <td>40</td>\n",
       "      <td>1980</td>\n",
       "      <td>2619</td>\n",
       "      <td>700.0</td>\n",
       "      <td>207.37</td>\n",
       "      <td>0.117</td>\n",
       "      <td>24.26229</td>\n",
       "    </tr>\n",
       "    <tr>\n",
       "      <th>10</th>\n",
       "      <td>2025-01-25 19:40:29.848</td>\n",
       "      <td>0</td>\n",
       "      <td>NVIDIA H100 80GB HBM3</td>\n",
       "      <td>88</td>\n",
       "      <td>62</td>\n",
       "      <td>81559</td>\n",
       "      <td>36640</td>\n",
       "      <td>44356</td>\n",
       "      <td>43</td>\n",
       "      <td>1980</td>\n",
       "      <td>2619</td>\n",
       "      <td>700.0</td>\n",
       "      <td>251.01</td>\n",
       "      <td>0.116</td>\n",
       "      <td>29.11716</td>\n",
       "    </tr>\n",
       "    <tr>\n",
       "      <th>11</th>\n",
       "      <td>2025-01-25 19:40:29.966</td>\n",
       "      <td>0</td>\n",
       "      <td>NVIDIA H100 80GB HBM3</td>\n",
       "      <td>88</td>\n",
       "      <td>62</td>\n",
       "      <td>81559</td>\n",
       "      <td>36640</td>\n",
       "      <td>44356</td>\n",
       "      <td>44</td>\n",
       "      <td>1980</td>\n",
       "      <td>2619</td>\n",
       "      <td>700.0</td>\n",
       "      <td>306.31</td>\n",
       "      <td>0.118</td>\n",
       "      <td>36.14458</td>\n",
       "    </tr>\n",
       "  </tbody>\n",
       "</table>\n",
       "</div>"
      ],
      "text/plain": [
       "                 timestamp  index                   name  utilization.gpu(%)  \\\n",
       "7  2025-01-25 19:40:29.498      0  NVIDIA H100 80GB HBM3                   0   \n",
       "8  2025-01-25 19:40:29.615      0  NVIDIA H100 80GB HBM3                  42   \n",
       "9  2025-01-25 19:40:29.732      0  NVIDIA H100 80GB HBM3                  42   \n",
       "10 2025-01-25 19:40:29.848      0  NVIDIA H100 80GB HBM3                  88   \n",
       "11 2025-01-25 19:40:29.966      0  NVIDIA H100 80GB HBM3                  88   \n",
       "\n",
       "    utilization.memory(%)  memory.total(MiB)  memory.free(MiB)  \\\n",
       "7                       0              81559             36640   \n",
       "8                      17              81559             36640   \n",
       "9                      17              81559             36640   \n",
       "10                     62              81559             36640   \n",
       "11                     62              81559             36640   \n",
       "\n",
       "    memory.used(MiB)  temperature.gpu(C)  gpu.frequency(Ghz)  \\\n",
       "7              44356                  32                1980   \n",
       "8              44356                  35                1980   \n",
       "9              44356                  40                1980   \n",
       "10             44356                  43                1980   \n",
       "11             44356                  44                1980   \n",
       "\n",
       "    vram.frequency(Ghz)  power.limit(W)  power.draw(W)  time_since_last  \\\n",
       "7                  2619           700.0         118.24              NaN   \n",
       "8                  2619           700.0         158.39            0.117   \n",
       "9                  2619           700.0         207.37            0.117   \n",
       "10                 2619           700.0         251.01            0.116   \n",
       "11                 2619           700.0         306.31            0.118   \n",
       "\n",
       "    watt_seconds  \n",
       "7            NaN  \n",
       "8       18.53163  \n",
       "9       24.26229  \n",
       "10      29.11716  \n",
       "11      36.14458  "
      ]
     },
     "execution_count": 48,
     "metadata": {},
     "output_type": "execute_result"
    }
   ],
   "source": [
    "#calculate total watt-seconds of each row\n",
    "default_nvidia_log['time_since_last'] = default_nvidia_log['timestamp'].diff().dt.total_seconds()\n",
    "default_nvidia_log['watt_seconds'] = default_nvidia_log['power.draw(W)'] * default_nvidia_log['time_since_last']\n",
    "default_nvidia_log.head()"
   ]
  },
  {
   "cell_type": "code",
   "execution_count": 49,
   "metadata": {},
   "outputs": [
    {
     "data": {
      "text/plain": [
       "<Axes: >"
      ]
     },
     "execution_count": 49,
     "metadata": {},
     "output_type": "execute_result"
    },
    {
     "data": {
      "image/png": "[encoded data removed]",
      "text/plain": [
       "<Figure size 640x480 with 1 Axes>"
      ]
     },
     "metadata": {},
     "output_type": "display_data"
    }
   ],
   "source": [
    "#show histogram of time spent in different gpu load levels\n",
    "nvidia_log['utilization.gpu(%)'].hist(bins=20)"
   ]
  },
  {
   "cell_type": "code",
   "execution_count": 50,
   "metadata": {},
   "outputs": [
    {
     "data": {
      "text/plain": [
       "<Axes: >"
      ]
     },
     "execution_count": 50,
     "metadata": {},
     "output_type": "execute_result"
    },
    {
     "data": {
      "image/png": "[encoded data removed]",
      "text/plain": [
       "<Figure size 640x480 with 1 Axes>"
      ]
     },
     "metadata": {},
     "output_type": "display_data"
    }
   ],
   "source": [
    "default_nvidia_log['utilization.gpu(%)'].hist(bins=20)"
   ]
  },
  {
   "cell_type": "code",
   "execution_count": 51,
   "metadata": {},
   "outputs": [
    {
     "name": "stdout",
     "output_type": "stream",
     "text": [
      "Total watt-seconds (agent): 41728.749579999996\n",
      "Total watt-seconds (default): 46346.976689999996\n"
     ]
    }
   ],
   "source": [
    "#print total watt-seconds\n",
    "total_watt_seconds = nvidia_log['watt_seconds'].sum()\n",
    "print(f\"Total watt-seconds (agent): {total_watt_seconds}\")\n",
    "default_total_watt_seconds = default_nvidia_log['watt_seconds'].sum()\n",
    "print(f\"Total watt-seconds (default): {default_total_watt_seconds}\")"
   ]
  },
  {
   "cell_type": "code",
   "execution_count": 52,
   "metadata": {},
   "outputs": [
    {
     "name": "stdout",
     "output_type": "stream",
     "text": [
      "Total tokens (agent): 3541\n",
      "Total tokens (default): 3384\n"
     ]
    }
   ],
   "source": [
    "#print total tokens\n",
    "total_tokens = inference_load['TotalTokens'].sum()\n",
    "print(f\"Total tokens (agent): {total_tokens}\")\n",
    "default_total_tokens = default_inference_load['TotalTokens'].sum()\n",
    "print(f\"Total tokens (default): {default_total_tokens}\")"
   ]
  },
  {
   "cell_type": "code",
   "execution_count": 53,
   "metadata": {},
   "outputs": [
    {
     "data": {
      "text/html": [
       "<div>\n",
       "<style scoped>\n",
       "    .dataframe tbody tr th:only-of-type {\n",
       "        vertical-align: middle;\n",
       "    }\n",
       "\n",
       "    .dataframe tbody tr th {\n",
       "        vertical-align: top;\n",
       "    }\n",
       "\n",
       "    .dataframe thead th {\n",
       "        text-align: right;\n",
       "    }\n",
       "</style>\n",
       "<table border=\"1\" class=\"dataframe\">\n",
       "  <thead>\n",
       "    <tr style=\"text-align: right;\">\n",
       "      <th></th>\n",
       "      <th>total_time</th>\n",
       "      <th>total_watt_seconds</th>\n",
       "      <th>total_tokens</th>\n",
       "      <th>tokens_per_watt_second</th>\n",
       "      <th>tokens_per_second</th>\n",
       "    </tr>\n",
       "  </thead>\n",
       "  <tbody>\n",
       "    <tr>\n",
       "      <th>agent</th>\n",
       "      <td>0 days 00:01:33.487000</td>\n",
       "      <td>41728.74958</td>\n",
       "      <td>3541</td>\n",
       "      <td>0.084858</td>\n",
       "      <td>37.876924</td>\n",
       "    </tr>\n",
       "    <tr>\n",
       "      <th>default</th>\n",
       "      <td>0 days 00:01:18.377000</td>\n",
       "      <td>46346.97669</td>\n",
       "      <td>3384</td>\n",
       "      <td>0.073014</td>\n",
       "      <td>43.175932</td>\n",
       "    </tr>\n",
       "  </tbody>\n",
       "</table>\n",
       "</div>"
      ],
      "text/plain": [
       "                    total_time  total_watt_seconds  total_tokens  \\\n",
       "agent   0 days 00:01:33.487000         41728.74958          3541   \n",
       "default 0 days 00:01:18.377000         46346.97669          3384   \n",
       "\n",
       "         tokens_per_watt_second  tokens_per_second  \n",
       "agent                  0.084858          37.876924  \n",
       "default                0.073014          43.175932  "
      ]
     },
     "execution_count": 53,
     "metadata": {},
     "output_type": "execute_result"
    }
   ],
   "source": [
    "#create a table with columns for total time, total watt-seconds, total tokens and tokens per watt-second and tokens per second\n",
    "summary = pd.DataFrame(columns=['total_time', 'total_watt_seconds', 'total_tokens', 'tokens_per_watt_second', 'tokens_per_second'])\n",
    "summary.loc['agent'] = [total_time, total_watt_seconds, total_tokens, total_tokens/total_watt_seconds, total_tokens/total_time.total_seconds()]\n",
    "summary.loc['default'] = [default_total_time, default_total_watt_seconds, default_total_tokens, default_total_tokens/default_total_watt_seconds, default_total_tokens/default_total_time.total_seconds()]\n",
    "summary\n"
   ]
  },
  {
   "cell_type": "code",
   "execution_count": 54,
   "metadata": {},
   "outputs": [
    {
     "name": "stdout",
     "output_type": "stream",
     "text": [
      "Percent diff in agent from default in total watt-seconds (don't take too much from this as this isn't normalized): -9.964462495342111\n",
      "Percent diff in agent from default in tokens per second: -12.273059178832732\n",
      "Percent diff in agent from default in tokens per watt-second: 16.220197941311724\n"
     ]
    }
   ],
   "source": [
    "#calculate percent diff in total_watt_seconds and tokens_per_second\n",
    "percent_diff_total_watt_seconds = (total_watt_seconds - default_total_watt_seconds) / default_total_watt_seconds * 100\n",
    "percent_diff_tokens_per_second = (summary.loc['agent']['tokens_per_second'] - summary.loc['default']['tokens_per_second']) / summary.loc['default']['tokens_per_second'] * 100\n",
    "percent_diff_tokens_per_watt_second = (summary.loc['agent']['tokens_per_watt_second'] - summary.loc['default']['tokens_per_watt_second']) / summary.loc['default']['tokens_per_watt_second'] * 100\n",
    "print(f\"Percent diff in agent from default in total watt-seconds (don't take too much from this as this isn't normalized): {percent_diff_total_watt_seconds}\")\n",
    "print(f\"Percent diff in agent from default in tokens per second: {percent_diff_tokens_per_second}\")\n",
    "print(f\"Percent diff in agent from default in tokens per watt-second: {percent_diff_tokens_per_watt_second}\")"
   ]
  },
  {
   "cell_type": "code",
   "execution_count": null,
   "metadata": {},
   "outputs": [],
   "source": []
  }
 ],
 "metadata": {
  "kernelspec": {
   "display_name": "gpu_load_line",
   "language": "python",
   "name": "python3"
  },
  "language_info": {
   "codemirror_mode": {
    "name": "ipython",
    "version": 3
   },
   "file_extension": ".py",
   "mimetype": "text/x-python",
   "name": "python",
   "nbconvert_exporter": "python",
   "pygments_lexer": "ipython3",
   "version": "3.12.8"
  }
 },
 "nbformat": 4,
 "nbformat_minor": 2
}
